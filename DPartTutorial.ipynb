{
  "cells": [
    {
      "cell_type": "code",
      "execution_count": null,
      "metadata": {
        "colab": {
          "base_uri": "https://localhost:8080/"
        },
        "id": "jePYbmi1vJuF",
        "outputId": "c01d6551-4b8d-43eb-a905-89bf4a3d3d31"
      },
      "outputs": [
        {
          "output_type": "stream",
          "name": "stdout",
          "text": [
            "Looking in indexes: https://pypi.org/simple, https://us-python.pkg.dev/colab-wheels/public/simple/\n",
            "Requirement already satisfied: causal-learn in /usr/local/lib/python3.8/dist-packages (0.1.3.1)\n",
            "Requirement already satisfied: networkx in /usr/local/lib/python3.8/dist-packages (from causal-learn) (2.6.3)\n",
            "Requirement already satisfied: scipy in /usr/local/lib/python3.8/dist-packages (from causal-learn) (1.7.3)\n",
            "Requirement already satisfied: tqdm in /usr/local/lib/python3.8/dist-packages (from causal-learn) (4.64.1)\n",
            "Requirement already satisfied: pydot in /usr/local/lib/python3.8/dist-packages (from causal-learn) (1.3.0)\n",
            "Requirement already satisfied: statsmodels in /usr/local/lib/python3.8/dist-packages (from causal-learn) (0.12.2)\n",
            "Requirement already satisfied: scikit-learn in /usr/local/lib/python3.8/dist-packages (from causal-learn) (1.0.2)\n",
            "Requirement already satisfied: numpy in /usr/local/lib/python3.8/dist-packages (from causal-learn) (1.21.6)\n",
            "Requirement already satisfied: graphviz in /usr/local/lib/python3.8/dist-packages (from causal-learn) (0.10.1)\n",
            "Requirement already satisfied: matplotlib in /usr/local/lib/python3.8/dist-packages (from causal-learn) (3.2.2)\n",
            "Requirement already satisfied: pandas in /usr/local/lib/python3.8/dist-packages (from causal-learn) (1.3.5)\n",
            "Requirement already satisfied: kiwisolver>=1.0.1 in /usr/local/lib/python3.8/dist-packages (from matplotlib->causal-learn) (1.4.4)\n",
            "Requirement already satisfied: cycler>=0.10 in /usr/local/lib/python3.8/dist-packages (from matplotlib->causal-learn) (0.11.0)\n",
            "Requirement already satisfied: pyparsing!=2.0.4,!=2.1.2,!=2.1.6,>=2.0.1 in /usr/local/lib/python3.8/dist-packages (from matplotlib->causal-learn) (3.0.9)\n",
            "Requirement already satisfied: python-dateutil>=2.1 in /usr/local/lib/python3.8/dist-packages (from matplotlib->causal-learn) (2.8.2)\n",
            "Requirement already satisfied: six>=1.5 in /usr/local/lib/python3.8/dist-packages (from python-dateutil>=2.1->matplotlib->causal-learn) (1.15.0)\n",
            "Requirement already satisfied: pytz>=2017.3 in /usr/local/lib/python3.8/dist-packages (from pandas->causal-learn) (2022.6)\n",
            "Requirement already satisfied: joblib>=0.11 in /usr/local/lib/python3.8/dist-packages (from scikit-learn->causal-learn) (1.2.0)\n",
            "Requirement already satisfied: threadpoolctl>=2.0.0 in /usr/local/lib/python3.8/dist-packages (from scikit-learn->causal-learn) (3.1.0)\n",
            "Requirement already satisfied: patsy>=0.5 in /usr/local/lib/python3.8/dist-packages (from statsmodels->causal-learn) (0.5.3)\n"
          ]
        }
      ],
      "source": [
        "!pip install causal-learn"
      ]
    },
    {
      "cell_type": "code",
      "execution_count": null,
      "metadata": {
        "id": "gfA8AvB9vBlR"
      },
      "outputs": [],
      "source": [
        "import numpy as np\n",
        "data=np.array([1,1,3,4,5,5])\n"
      ]
    },
    {
      "cell_type": "code",
      "execution_count": null,
      "metadata": {
        "id": "6UEA4EhUuzsn"
      },
      "outputs": [],
      "source": [
        "import sys\n",
        "import io\n",
        "from causallearn.score.LocalScoreFunction import local_score_BDeu\n",
        "from causallearn.utils.GraphUtils import GraphUtils\n",
        "sys.path.append(\"\")\n",
        "import unittest\n",
        "import warnings\n",
        "from pickle import load\n",
        "import matplotlib.image as mpimg\n",
        "import matplotlib.pyplot as plt\n",
        "import numpy as np\n",
        "\n",
        "from causallearn.search.ScoreBased.GES import ges\n",
        "\n",
        "\n",
        "class TestGES(unittest.TestCase):\n",
        "    # Learning the causal structure with generalized score-based method and with GES search. The score function can be\n",
        "    # negative cross-validated log-likelihood or marginal log-likelihood with regression in RKHS\n",
        "\n",
        "    # example1\n",
        "    # for data with single-variate dimensions\n",
        "    # and score function is negative cross-validated log-likelihood\n",
        "    def test_single_CV(self):\n",
        "        with open(\"example_data1.pk\", 'rb') as example_data1:\n",
        "            # example_data1 = load(open(\"example_data1.pk\", 'rb'))\n",
        "            example_data1 = load(example_data1)\n",
        "            G_truth = example_data1['G_truth']\n",
        "            X = example_data1['X']\n",
        "            X = X - np.tile(np.mean(X, axis=0), (X.shape[0], 1))\n",
        "            X = np.dot(X, np.diag(1 / np.std(X, axis=0)))\n",
        "            maxP = 5  # maximum number of parents when searching the graph\n",
        "            parameters = {'kfold': 10, 'lambda': 0.01}\n",
        "            X = X[:50, :]\n",
        "            Record = ges(X, 'local_score_CV_general', maxP=maxP, parameters=parameters)\n",
        "\n",
        "            pyd = GraphUtils.to_pydot(Record['G'])\n",
        "            tmp_png = pyd.create_png(f=\"png\")\n",
        "            fp = io.BytesIO(tmp_png)\n",
        "            img = mpimg.imread(fp, format='png')\n",
        "            plt.axis('off')\n",
        "            plt.imshow(img)\n",
        "            plt.show()\n",
        "\n",
        "            print(Record)\n",
        "\n",
        "    # example2\n",
        "    # for data with single-variate dimensions\n",
        "    # and score function is negative marginal likelihood\n",
        "    def test_single_marginal(self):\n",
        "        with open(\"example_data1.pk\", 'rb') as example_data1:\n",
        "            # example_data1 = load(open(\"example_data1.pk\", 'rb'))\n",
        "            example_data1 = load(example_data1)\n",
        "            G_truth = example_data1['G_truth']\n",
        "            X = example_data1['X']\n",
        "            X = X - np.tile(np.mean(X, axis=0), (X.shape[0], 1))\n",
        "            X = np.dot(X, np.diag(1 / np.std(X, axis=0)))\n",
        "\n",
        "            maxP = 5  # maximum number of parents when searching the graph\n",
        "            parameters = {'kfold': 10, 'lambda': 0.01}\n",
        "            X = X[:50, :]\n",
        "            Record = ges(X, 'local_score_marginal_general', maxP=maxP, parameters=parameters)\n",
        "\n",
        "            pyd = GraphUtils.to_pydot(Record['G'])\n",
        "            tmp_png = pyd.create_png(f=\"png\")\n",
        "            fp = io.BytesIO(tmp_png)\n",
        "            img = mpimg.imread(fp, format='png')\n",
        "            plt.axis('off')\n",
        "            plt.imshow(img)\n",
        "            plt.show()\n",
        "\n",
        "            print(Record)\n",
        "\n",
        "    # example3\n",
        "    # for data with multi-dimensional variables\n",
        "    # and score function is negative cross-validated log-likelihood\n",
        "    def test_multi_CV(self):\n",
        "        with open(\"example_data2.pk\", 'rb') as example_data:\n",
        "            # example_data = load(open(\"example_data2.pk\", 'rb'))\n",
        "            example_data = load(example_data)\n",
        "            Data_save = example_data['Data_save']\n",
        "            G_save = example_data['G_save']\n",
        "            d_label_save = example_data['d_label_save']\n",
        "\n",
        "            trial = 0\n",
        "            N = G_save[trial].shape[0]\n",
        "            X = Data_save[trial]\n",
        "            X = X - np.tile(np.mean(X, axis=0), (X.shape[0], 1))\n",
        "            X = np.dot(X, np.diag(1 / np.std(X, axis=0)))\n",
        "            maxP = 3  # maximum number of parents when searching the graph\n",
        "            parameters = {'kfold': 10,\n",
        "                          'lambda': 0.01,\n",
        "                          'dlabel': d_label_save[trial]}  # indicate which dimensions belong to the i-th variable.\n",
        "            X = X[:50, :]\n",
        "            Record = ges(X, 'local_score_CV_multi', maxP=maxP, parameters=parameters)\n",
        "\n",
        "            pyd = GraphUtils.to_pydot(Record['G'])\n",
        "            tmp_png = pyd.create_png(f=\"png\")\n",
        "            fp = io.BytesIO(tmp_png)\n",
        "            img = mpimg.imread(fp, format='png')\n",
        "            plt.axis('off')\n",
        "            plt.imshow(img)\n",
        "            plt.show()\n",
        "\n",
        "            print(Record)\n",
        "\n",
        "    # example4\n",
        "    # for data with multi-dimensional variables\n",
        "    # and score function is negative marginal likelihood\n",
        "    def test_multi_marginal(self):\n",
        "        with open(\"example_data2.pk\", 'rb') as example_data:\n",
        "            # example_data = load(open(\"example_data2.pk\", 'rb'))\n",
        "            example_data = load(example_data)\n",
        "            Data_save = example_data['Data_save']\n",
        "            G_save = example_data['G_save']\n",
        "            d_label_save = example_data['d_label_save']\n",
        "\n",
        "            trial = 0\n",
        "            N = G_save[trial].shape[0]\n",
        "            X = Data_save[trial]\n",
        "            X = X - np.tile(np.mean(X, axis=0), (X.shape[0], 1))\n",
        "            X = np.dot(X, np.diag(1 / np.std(X, axis=0)))\n",
        "            maxP = 3  # maximum number of parents when searching the graph\n",
        "            parameters = {'kfold': 10,\n",
        "                          'lambda': 0.01,\n",
        "                          'dlabel': d_label_save[trial]}  # indicate which dimensions belong to the i-th variable.\n",
        "            X = X[:50, :]\n",
        "            Record = ges(X, 'local_score_marginal_multi', maxP=maxP, parameters=parameters)\n",
        "\n",
        "            pyd = GraphUtils.to_pydot(Record['G'])\n",
        "            tmp_png = pyd.create_png(f=\"png\")\n",
        "            fp = io.BytesIO(tmp_png)\n",
        "            img = mpimg.imread(fp, format='png')\n",
        "            plt.axis('off')\n",
        "            plt.imshow(img)\n",
        "            plt.show()\n",
        "\n",
        "            print(Record)\n",
        "\n",
        "    # example5\n",
        "    # for data with single-variate dimensions\n",
        "    # and score function is BIC score\n",
        "    def test_single_BIC(self):\n",
        "        with open(\"example_data3.pk\", 'rb') as example_data:\n",
        "            # example_data = load(open(\"example_data3.pk\", 'rb'))\n",
        "            example_data = load(example_data)\n",
        "            X = example_data['X']\n",
        "            maxP = example_data['maxP']\n",
        "            # X = X[:50, :]\n",
        "            Record = ges(X, 'local_score_BIC', maxP=maxP)\n",
        "\n",
        "            pyd = GraphUtils.to_pydot(Record['G'])\n",
        "            tmp_png = pyd.create_png(f=\"png\")\n",
        "            fp = io.BytesIO(tmp_png)\n",
        "            img = mpimg.imread(fp, format='png')\n",
        "            plt.axis('off')\n",
        "            plt.imshow(img)\n",
        "            plt.show()\n",
        "\n",
        "            print(Record)\n",
        "\n",
        "    # example6\n",
        "    # for data with single-variate dimensions\n",
        "    # and score function is BDeu score\n",
        "    def test_single_BDeu(self):\n",
        "        X = np.loadtxt('example_data5.txt')\n",
        "        Record = ges(X, 'local_score_BDeu', maxP=5)\n",
        "\n",
        "        pyd = GraphUtils.to_pydot(Record['G'])\n",
        "        tmp_png = pyd.create_png(f=\"png\")\n",
        "        fp = io.BytesIO(tmp_png)\n",
        "        img = mpimg.imread(fp, format='png')\n",
        "        plt.axis('off')\n",
        "        plt.imshow(img)\n",
        "        plt.show()\n",
        "\n",
        "        print(Record)\n",
        "\n",
        "    # example7\n",
        "    def test_score_function_BDeu(self):\n",
        "        X = np.loadtxt('example_data6.txt').T\n",
        "        X = np.mat(X)\n",
        "        parameters = {'sample_prior': 1,  # default ess = 1\n",
        "                      'structure_prior': 1,\n",
        "                      'r_i_map': {i: len(np.unique(np.asarray(X[:, i]))) for i in range(X.shape[1])}}\n",
        "\n",
        "        score = local_score_BDeu(X, 20, [24], parameters)\n",
        "\n",
        "        print(score)"
      ]
    },
    {
      "cell_type": "code",
      "execution_count": null,
      "metadata": {
        "colab": {
          "base_uri": "https://localhost:8080/",
          "height": 1000
        },
        "id": "bFaPA1vZ40wM",
        "outputId": "6acd9316-7561-49cf-e245-30b73b966354"
      },
      "outputs": [
        {
          "output_type": "stream",
          "name": "stdout",
          "text": [
            "[[ 0  0  0  0  0  0  0  0  0  0]\n",
            " [ 0  0  0  0  0  0  0  0  0  0]\n",
            " [ 0  0  0  0  0  0  0  0  0  0]\n",
            " [ 0  0  0  0  0  0  1  0  0  0]\n",
            " [ 0  0  0  0  0  0  0  0  0  0]\n",
            " [ 0  0  0  0  0  0  0  0  0  0]\n",
            " [ 0  0  0 -1  0  0  0  0  0  0]\n",
            " [ 0  0  0  0  0  0  0  0  0  0]\n",
            " [ 0  0  0  0  0  0  0  0  0  0]\n",
            " [ 0  0  0  0  0  0  0  0  0  0]]\n",
            "[[ 0  0  0  0  0  0  0  0  0  0]\n",
            " [ 0  0  0  0  0  0  0  0  0  0]\n",
            " [ 0  0  0  0  0  0  0  0  0  0]\n",
            " [ 0  0  0  0  0  0 -1  0  0  0]\n",
            " [ 0  0  0  0  0  0  0  0  0  0]\n",
            " [ 0  0  0  0  0  0  0  0  0  0]\n",
            " [ 0  0  0 -1  0  0  0  0  0  1]\n",
            " [ 0  0  0  0  0  0  0  0  0  0]\n",
            " [ 0  0  0  0  0  0  0  0  0  0]\n",
            " [ 0  0  0  0  0  0 -1  0  0  0]]\n",
            "[[ 0  1  0  0  0  0  0  0  0  0]\n",
            " [-1  0  0  0  0  0  0  0  0  0]\n",
            " [ 0  0  0  0  0  0  0  0  0  0]\n",
            " [ 0  0  0  0  0  0 -1  0  0  0]\n",
            " [ 0  0  0  0  0  0  0  0  0  0]\n",
            " [ 0  0  0  0  0  0  0  0  0  0]\n",
            " [ 0  0  0 -1  0  0  0  0  0 -1]\n",
            " [ 0  0  0  0  0  0  0  0  0  0]\n",
            " [ 0  0  0  0  0  0  0  0  0  0]\n",
            " [ 0  0  0  0  0  0 -1  0  0  0]]\n",
            "[[ 0 -1  0  0  0  0  0  0  0  0]\n",
            " [-1  0  0  0  0  0  0  0  0  0]\n",
            " [ 0  0  0  0  0  0  0  0  0  0]\n",
            " [ 0  0  0  0  0  0 -1  0  0  0]\n",
            " [ 0  0  0  0  0  0  0  0  0 -1]\n",
            " [ 0  0  0  0  0  0  0  0  0  0]\n",
            " [ 0  0  0 -1  0  0  0  0  0 -1]\n",
            " [ 0  0  0  0  0  0  0  0  0  0]\n",
            " [ 0  0  0  0  0  0  0  0  0  0]\n",
            " [ 0  0  0  0  1  0  1  0  0  0]]\n",
            "[[ 0 -1  0  0  0  0  0  0  0  0]\n",
            " [-1  0  0  0  0  0  0  0  0  0]\n",
            " [ 0  0  0  0  0  0  0  0  0  0]\n",
            " [ 0  0  0  0  0  0 -1  0  0  0]\n",
            " [ 0  0  0  0  0  0  0  0  0 -1]\n",
            " [ 0  0  0  0  0  0  0  1  0  0]\n",
            " [ 0  0  0 -1  0  0  0  0  0 -1]\n",
            " [ 0  0  0  0  0 -1  0  0  0  0]\n",
            " [ 0  0  0  0  0  0  0  0  0  0]\n",
            " [ 0  0  0  0  1  0  1  0  0  0]]\n",
            "[[ 0 -1  0  0 -1  0  0  0  0  0]\n",
            " [-1  0  0  0  0  0  0  0  0  0]\n",
            " [ 0  0  0  0  0  0  0  0  0  0]\n",
            " [ 0  0  0  0  0  0 -1  0  0  0]\n",
            " [ 1  0  0  0  0  0  0  0  0 -1]\n",
            " [ 0  0  0  0  0  0  0 -1  0  0]\n",
            " [ 0  0  0 -1  0  0  0  0  0 -1]\n",
            " [ 0  0  0  0  0 -1  0  0  0  0]\n",
            " [ 0  0  0  0  0  0  0  0  0  0]\n",
            " [ 0  0  0  0  1  0  1  0  0  0]]\n",
            "[[ 0 -1  0  0 -1  0  0  0  0  0]\n",
            " [-1  0  0  0  0  0  0 -1  0  0]\n",
            " [ 0  0  0  0  0  0  0  0  0  0]\n",
            " [ 0  0  0  0  0  0 -1  0  0  0]\n",
            " [-1  0  0  0  0  0  0  0  0 -1]\n",
            " [ 0  0  0  0  0  0  0 -1  0  0]\n",
            " [ 0  0  0 -1  0  0  0  0  0 -1]\n",
            " [ 0  1  0  0  0  1  0  0  0  0]\n",
            " [ 0  0  0  0  0  0  0  0  0  0]\n",
            " [ 0  0  0  0  1  0  1  0  0  0]]\n",
            "[[ 0 -1  0  0 -1  0  0  0  0  0]\n",
            " [-1  0  0  0  0  0  0 -1  0  0]\n",
            " [ 0  0  0  1  0  0  0  0  0  0]\n",
            " [ 0  0 -1  0  0  0 -1  0  0  0]\n",
            " [-1  0  0  0  0  0  0  0  0 -1]\n",
            " [ 0  0  0  0  0  0  0 -1  0  0]\n",
            " [ 0  0  0 -1  0  0  0  0  0 -1]\n",
            " [ 0  1  0  0  0  1  0  0  0  0]\n",
            " [ 0  0  0  0  0  0  0  0  0  0]\n",
            " [ 0  0  0  0  1  0  1  0  0  0]]\n",
            "[[ 0 -1 -1  0 -1  0  0  0  0  0]\n",
            " [-1  0  0  0  0  0  0 -1  0  0]\n",
            " [ 1  0  0 -1  0  0  0  0  0  0]\n",
            " [ 0  0 -1  0  0  0 -1  0  0  0]\n",
            " [-1  0  0  0  0  0  0  0  0 -1]\n",
            " [ 0  0  0  0  0  0  0 -1  0  0]\n",
            " [ 0  0  0 -1  0  0  0  0  0 -1]\n",
            " [ 0  1  0  0  0  1  0  0  0  0]\n",
            " [ 0  0  0  0  0  0  0  0  0  0]\n",
            " [ 0  0  0  0  1  0  1  0  0  0]]\n",
            "[[ 0 -1 -1  0 -1  0  0  0  0  0]\n",
            " [-1  0  0  0  0  0  0 -1  0  0]\n",
            " [-1  0  0 -1  0  0  0  0  0  0]\n",
            " [ 0  0 -1  0  0  0 -1  0  0  0]\n",
            " [-1  0  0  0  0  0  0  0  0 -1]\n",
            " [ 0  0  0  0  0  0  0 -1  0  0]\n",
            " [ 0  0  0 -1  0  0  0  0  0 -1]\n",
            " [ 0  1  0  0  0  1  0  0 -1  0]\n",
            " [ 0  0  0  0  0  0  0  1  0  0]\n",
            " [ 0  0  0  0  1  0  1  0  0  0]]\n",
            "[[ 0 -1 -1  0 -1  0  0  0  0  0]\n",
            " [-1  0  1  0  0  0  0 -1  0  0]\n",
            " [-1 -1  0 -1  0  0  0  0  0  0]\n",
            " [ 0  0 -1  0  0  0 -1  0  0  0]\n",
            " [-1  0  0  0  0  0  0  0  0 -1]\n",
            " [ 0  0  0  0  0  0  0 -1  0  0]\n",
            " [ 0  0  0 -1  0  0  0  0  0 -1]\n",
            " [ 0  1  0  0  0  1  0  0 -1  0]\n",
            " [ 0  0  0  0  0  0  0  1  0  0]\n",
            " [ 0  0  0  0  1  0  1  0  0  0]]\n",
            "[[ 0 -1 -1  0 -1  0  0  0  0  0]\n",
            " [-1  0 -1  0  0  0  0 -1  0  0]\n",
            " [-1 -1  0 -1  0  0  0  0  0  0]\n",
            " [ 0  0 -1  0  0  0 -1  0  0  0]\n",
            " [-1  0  0  0  0  0  0  0  0 -1]\n",
            " [ 0  0  0  0  0  0  0 -1  0  0]\n",
            " [ 0  0  0 -1  0  0  0  0  0 -1]\n",
            " [ 0  1  0  0  0  1  0  0 -1  0]\n",
            " [ 0  0  0  0  0  0  0  1  0  1]\n",
            " [ 0  0  0  0  1  0  1  0 -1  0]]\n",
            "[[ 0 -1 -1  0 -1  0  0  0  0  0]\n",
            " [-1  0 -1  0  0  0  0 -1  0  0]\n",
            " [-1 -1  0 -1  0  0  0  0  0  0]\n",
            " [ 0  0  1  0  1  0 -1  0  0  0]\n",
            " [-1  0  0 -1  0  0  0  0  0 -1]\n",
            " [ 0  0  0  0  0  0  0 -1  0  0]\n",
            " [ 0  0  0 -1  0  0  0  0  0 -1]\n",
            " [ 0  1  0  0  0  1  0  0 -1  0]\n",
            " [ 0  0  0  0  0  0  0  1  0  1]\n",
            " [ 0  0  0  0  1  0  1  0 -1  0]]\n",
            "[[ 0 -1 -1  0 -1  0  0  0  0 -1]\n",
            " [-1  0 -1  0  0  0  0 -1  0  0]\n",
            " [-1 -1  0 -1  0  0  0  0  0  0]\n",
            " [ 0  0  1  0  1  0 -1  0  0  0]\n",
            " [-1  0  0 -1  0  0  0  0  0 -1]\n",
            " [ 0  0  0  0  0  0  0 -1  0  0]\n",
            " [ 0  0  0  1  0  0  0  0  0 -1]\n",
            " [ 0  1  0  0  0  1  0  0 -1  0]\n",
            " [ 0  0  0  0  0  0  0  1  0  1]\n",
            " [ 1  0  0  0  1  0  1  0 -1  0]]\n",
            "[[ 0 -1 -1  0 -1  0  0  0  0 -1]\n",
            " [-1  0 -1  0  0  0  0 -1  0  0]\n",
            " [-1 -1  0 -1  0  0  0  1  0  0]\n",
            " [ 0  0  1  0  1  0 -1  0  0  0]\n",
            " [-1  0  0 -1  0  0  0  0  0 -1]\n",
            " [ 0  0  0  0  0  0  0 -1  0  0]\n",
            " [ 0  0  0  1  0  0  0  0  0 -1]\n",
            " [ 0  1 -1  0  0  1  0  0 -1  0]\n",
            " [ 0  0  0  0  0  0  0  1  0  1]\n",
            " [ 1  0  0  0  1  0  1  0 -1  0]]\n",
            "backward\n"
          ]
        },
        {
          "output_type": "display_data",
          "data": {
            "text/plain": [
              "<Figure size 432x288 with 1 Axes>"
            ],
            "image/png": "[encoded data removed]"
          },
          "metadata": {
            "needs_background": "light"
          }
        },
        {
          "output_type": "stream",
          "name": "stdout",
          "text": [
            "{'update1': [[6, 3, ()], [9, 6, ()], [1, 0, ()], [4, 9, [6]], [7, 5, ()], [0, 4, ()], [1, 7, [5]], [3, 2, ()], [0, 2, ()], [7, 8, ()], [2, 1, ()], [9, 8, ()], [4, 3, (2,)], [0, 9, ()], [7, 2, ()]], 'update2': [], 'G_step1': [<causallearn.graph.GeneralGraph.GeneralGraph object at 0x7f6095c5eb20>, <causallearn.graph.GeneralGraph.GeneralGraph object at 0x7f6095bf6f40>, <causallearn.graph.GeneralGraph.GeneralGraph object at 0x7f6095bf6bb0>, <causallearn.graph.GeneralGraph.GeneralGraph object at 0x7f6095bf85e0>, <causallearn.graph.GeneralGraph.GeneralGraph object at 0x7f6095bf8df0>, <causallearn.graph.GeneralGraph.GeneralGraph object at 0x7f6095bfcf40>, <causallearn.graph.GeneralGraph.GeneralGraph object at 0x7f6095bfea90>, <causallearn.graph.GeneralGraph.GeneralGraph object at 0x7f6095c00ee0>, <causallearn.graph.GeneralGraph.GeneralGraph object at 0x7f6095c00c10>, <causallearn.graph.GeneralGraph.GeneralGraph object at 0x7f6095c003d0>, <causallearn.graph.GeneralGraph.GeneralGraph object at 0x7f6095c028b0>, <causallearn.graph.GeneralGraph.GeneralGraph object at 0x7f6095c01a30>, <causallearn.graph.GeneralGraph.GeneralGraph object at 0x7f6095c01d00>, <causallearn.graph.GeneralGraph.GeneralGraph object at 0x7f6095c018e0>, <causallearn.graph.GeneralGraph.GeneralGraph object at 0x7f6095c01eb0>], 'G_step2': [], 'G': <causallearn.graph.GeneralGraph.GeneralGraph object at 0x7f6095c01eb0>, 'score': 347.2786963957233}\n"
          ]
        }
      ],
      "source": [
        "from causallearn.search.ScoreBased.GES import ges\n",
        "\n",
        "# Visualization using pydot\n",
        "from causallearn.utils.GraphUtils import GraphUtils\n",
        "import matplotlib.image as mpimg\n",
        "import matplotlib.pyplot as plt\n",
        "import io\n",
        "\n",
        "with open(\"example_data1.pk\", 'rb') as example_data1:\n",
        "            # example_data1 = load(open(\"example_data1.pk\", 'rb'))\n",
        "            example_data1 = load(example_data1)\n",
        "            G_truth = example_data1['G_truth']\n",
        "            X = example_data1['X']\n",
        "            X = X - np.tile(np.mean(X, axis=0), (X.shape[0], 1))\n",
        "            X = np.dot(X, np.diag(1 / np.std(X, axis=0)))\n",
        "            maxP = 10  # maximum number of parents when searching the graph\n",
        "            parameters = {'kfold': 10, 'lambda': 0.01}\n",
        "            X = X[:50, :]\n",
        "            Record = ges(X, 'local_score_CV_general', maxP=maxP, parameters=parameters)\n",
        "            #Record = ges(X, 'local_score_BIC', maxP=maxP, parameters=parameters)\n",
        "\n",
        "            pyd = GraphUtils.to_pydot(Record['G'])\n",
        "            tmp_png = pyd.create_png(f=\"png\")\n",
        "            fp = io.BytesIO(tmp_png)\n",
        "            img = mpimg.imread(fp, format='png')\n",
        "            plt.axis('off')\n",
        "            plt.imshow(img)\n",
        "            plt.show()\n",
        "\n",
        "            print(Record)\n",
        "\n",
        "# or save the graph\n",
        "pyd.write_png('simple_test10.png')"
      ]
    },
    {
      "cell_type": "code",
      "source": [
        "print(example_data1['X'])"
      ],
      "metadata": {
        "id": "PSl0kfbWs4z9",
        "colab": {
          "base_uri": "https://localhost:8080/"
        },
        "outputId": "9119283f-9cb3-422c-94ad-e98e1279fb3f"
      },
      "execution_count": null,
      "outputs": [
        {
          "output_type": "stream",
          "name": "stdout",
          "text": [
            "[[ 0.44229594  0.47722119  1.         ...  0.79050091  0.74973244\n",
            "   0.99296001]\n",
            " [ 0.34760155  0.27953493  1.         ...  0.6863014   0.96295868\n",
            "   0.83202738]\n",
            " [-0.16108262 -0.11377638  0.         ... -0.21502217 -0.04457829\n",
            "  -0.49374771]\n",
            " ...\n",
            " [-0.46768544 -0.16820463  0.         ... -0.22720475  0.03271168\n",
            "  -0.2371647 ]\n",
            " [ 0.36519111  0.1416438   2.         ...  0.61801182  0.91872247\n",
            "   0.81896031]\n",
            " [-0.11894466 -0.3038887   1.         ...  0.89271029  0.99345645\n",
            "   0.86569722]]\n"
          ]
        }
      ]
    },
    {
      "cell_type": "code",
      "source": [
        "print(len(example_data1['X']))"
      ],
      "metadata": {
        "id": "7jR4oBHqtCLo",
        "colab": {
          "base_uri": "https://localhost:8080/"
        },
        "outputId": "d975cba9-6eff-4718-e0fe-cb79c3850ad0"
      },
      "execution_count": null,
      "outputs": [
        {
          "output_type": "stream",
          "name": "stdout",
          "text": [
            "500\n"
          ]
        }
      ]
    },
    {
      "cell_type": "code",
      "source": [
        "print(len(example_data1['X'][0]))"
      ],
      "metadata": {
        "id": "6Ux0tJY1tLwM",
        "colab": {
          "base_uri": "https://localhost:8080/"
        },
        "outputId": "0232b787-9e28-4f90-a14f-5753193cd4a4"
      },
      "execution_count": null,
      "outputs": [
        {
          "output_type": "stream",
          "name": "stdout",
          "text": [
            "10\n"
          ]
        }
      ]
    },
    {
      "cell_type": "code",
      "source": [
        "print(Record.keys())"
      ],
      "metadata": {
        "id": "5SOAnqNI6v89",
        "colab": {
          "base_uri": "https://localhost:8080/"
        },
        "outputId": "7ac7a4c0-12f7-41f2-db5b-8cc515aa8a25"
      },
      "execution_count": null,
      "outputs": [
        {
          "output_type": "stream",
          "name": "stdout",
          "text": [
            "dict_keys(['update1', 'update2', 'G_step1', 'G_step2', 'G', 'score'])\n"
          ]
        }
      ]
    },
    {
      "cell_type": "code",
      "source": [
        "print(Record[\"score\"])"
      ],
      "metadata": {
        "id": "GRXAUvDZ623r",
        "colab": {
          "base_uri": "https://localhost:8080/"
        },
        "outputId": "6acb5c11-2d9a-4707-836d-bb5a5a0ddf95"
      },
      "execution_count": null,
      "outputs": [
        {
          "output_type": "stream",
          "name": "stdout",
          "text": [
            "347.2786963957233\n"
          ]
        }
      ]
    }
  ],
  "metadata": {
    "accelerator": "GPU",
    "colab": {
      "provenance": []
    },
    "gpuClass": "standard",
    "kernelspec": {
      "display_name": "Python 3",
      "name": "python3"
    },
    "language_info": {
      "name": "python"
    }
  },
  "nbformat": 4,
  "nbformat_minor": 0
}